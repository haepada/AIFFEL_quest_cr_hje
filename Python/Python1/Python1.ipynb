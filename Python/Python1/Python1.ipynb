{
  "cells": [
    {
      "cell_type": "markdown",
      "metadata": {
        "id": "view-in-github",
        "colab_type": "text"
      },
      "source": [
        "<a href=\"https://colab.research.google.com/github/jen0525/AIFFEL_quest_cr/blob/master/Python/Python1/Python1.ipynb\" target=\"_parent\"><img src=\"https://colab.research.google.com/assets/colab-badge.svg\" alt=\"Open In Colab\"/></a>"
      ]
    },
    {
      "cell_type": "markdown",
      "metadata": {
        "id": "82SVDovMgCQv"
      },
      "source": [
        "회문이란?\n",
        "앞에서부터 읽어도 뒤에서부터 읽어도 같은 단어, 구, 문장, 숫자, 혹은 문단\n",
        "\n",
        " 조건\n",
        "단어를 입력받을 수 있게 한다.\n",
        "입력된 단어를 뒤집어서 출력할 수 있게 한다.\n",
        "입력된 단어가 회문이 맞는지 확인하여 출력할 수 있게 한다.\n",
        "자료형, 제어문, 함수를 활용한다."
      ]
    },
    {
      "cell_type": "markdown",
      "source": [
        "회고: 너무 복잡하게 생각했다. 특히 뒤집힌 단어를 ::-1로 정의하는 방법은\n",
        "새롭게 알게 됐다. 이렇게 배운 개념을 응용하기 위해서는 개념을 더 완벽하게 숙지해야 가능한 거 같다.😊🥲"
      ],
      "metadata": {
        "id": "OiNdUwOa4jyq"
      }
    },
    {
      "cell_type": "code",
      "execution_count": null,
      "metadata": {
        "id": "m6ZbO6JkqBh9",
        "colab": {
          "base_uri": "https://localhost:8080/"
        },
        "outputId": "6b6e70c1-aab5-4dd2-9861-9a39e599a48c"
      },
      "outputs": [
        {
          "output_type": "stream",
          "name": "stdout",
          "text": [
            "단어를 입력해 주세요: 스위스\n",
            "입력된 단어는 회문입니다.\n"
          ]
        }
      ],
      "source": [
        "#단어 입력받기\n",
        "word = input('단어를 입력해 주세요: ')\n",
        "\n",
        "#함수 정의\n",
        "def whether_reversed(word):\n",
        "  reversed_word = word[::-1]\n",
        "  print('뒤집힌 단어는:',reversed_word)\n",
        "\n",
        "#회문 구분\n",
        "if word == word[::-1]:\n",
        "      print(\"입력된 단어는 회문입니다.\")\n",
        "else:\n",
        "      print(\"입력된 단어는 회문이 아닙니다.\")\n",
        "\n"
      ]
    }
  ],
  "metadata": {
    "colab": {
      "provenance": [],
      "include_colab_link": true
    },
    "kernelspec": {
      "display_name": "Python 3",
      "name": "python3"
    },
    "language_info": {
      "name": "python"
    }
  },
  "nbformat": 4,
  "nbformat_minor": 0
}