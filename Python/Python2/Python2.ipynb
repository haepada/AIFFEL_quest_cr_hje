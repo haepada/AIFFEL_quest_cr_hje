{
  "nbformat": 4,
  "nbformat_minor": 0,
  "metadata": {
    "colab": {
      "provenance": [],
      "include_colab_link": true
    },
    "kernelspec": {
      "name": "python3",
      "display_name": "Python 3"
    },
    "language_info": {
      "name": "python"
    }
  },
  "cells": [
    {
      "cell_type": "markdown",
      "metadata": {
        "id": "view-in-github",
        "colab_type": "text"
      },
      "source": [
        "<a href=\"https://colab.research.google.com/github/jen0525/AIFFEL_quest_cr/blob/master/Python/Python2/Python2.ipynb\" target=\"_parent\"><img src=\"https://colab.research.google.com/assets/colab-badge.svg\" alt=\"Open In Colab\"/></a>"
      ]
    },
    {
      "cell_type": "code",
      "source": [
        "# 구글 드라이브에 마운트 하기\n",
        "from google.colab import drive\n",
        "drive.mount('/content/drive')"
      ],
      "metadata": {
        "colab": {
          "base_uri": "https://localhost:8080/"
        },
        "id": "QTkJsy7a04CY",
        "outputId": "b942cdc1-63f3-4160-d5f7-87e08ab2a3ed"
      },
      "execution_count": null,
      "outputs": [
        {
          "output_type": "stream",
          "name": "stdout",
          "text": [
            "Drive already mounted at /content/drive; to attempt to forcibly remount, call drive.mount(\"/content/drive\", force_remount=True).\n"
          ]
        }
      ]
    },
    {
      "cell_type": "code",
      "source": [
        "# 파일 절대경로 통해 텍스트 불러오기\n",
        "file_path = '/content/drive/MyDrive/shakespeare_data/Avengers.txt'\n",
        "\n",
        "with open(file_path, 'r') as file:\n",
        "    content = file.read()\n"
      ],
      "metadata": {
        "collapsed": true,
        "id": "-AOfq3_j37SA"
      },
      "execution_count": null,
      "outputs": []
    },
    {
      "cell_type": "code",
      "source": [
        "# 소문자로 변환하기\n",
        "content = content.lower()\n",
        "\n",
        "#모든 기호 제거하기\n",
        "refined_text = \"\"\n",
        "for character in content:\n",
        "  if character.isalnum() or character == \" \":\n",
        "    refined_text += character\n",
        "\n",
        "# 단어 리스트로 분리\n",
        "words = refined_text.split()\n",
        "\n",
        "# 확인-> 첫 50 단어 출력하기\n",
        "print(words[:50])\n",
        "\n"
      ],
      "metadata": {
        "id": "skGal2pC4mcO"
      },
      "execution_count": null,
      "outputs": []
    },
    {
      "cell_type": "code",
      "source": [
        "# 빈도수 계산\n",
        "word_frequency = {}\n",
        "\n",
        "for word in words:\n",
        "    if word not in word_frequency:\n",
        "        word_frequency[word] = 1  # 처음 등장하는 단어 =1\n",
        "    else:\n",
        "        word_frequency[word] += 1  # 이미 있으면 +=1\n",
        "\n",
        "# 결과 출력\n",
        "print(word_frequency)"
      ],
      "metadata": {
        "id": "hFWgPUG8FQAI"
      },
      "execution_count": null,
      "outputs": []
    },
    {
      "cell_type": "code",
      "source": [
        "# 빈도수 기준으로 내림차순 정렬\n",
        "sorted_words = sorted(word_frequency.items(), key=lambda x: x[1], reverse=True)\n",
        "\n",
        "# 정렬된 순서대로 인덱스 부여\n",
        "frequency_indexed_word = {}\n",
        "for index, (word, freq) in enumerate(sorted_words, start=1):\n",
        "    frequency_indexed_word[word] = {'index': index, 'frequency': freq}\n",
        "\n",
        "# 최종 결과 출력\n",
        "print(\"정렬 및 인덱스 부여 결과:\", frequency_indexed_word)\n"
      ],
      "metadata": {
        "id": "S-0VSbnXGkpl"
      },
      "execution_count": null,
      "outputs": []
    },
    {
      "cell_type": "code",
      "source": [
        "# 텍스트를 인덱스 리스트로 변환하는 함수\n",
        "def text_to_index(frequency_indexed_word):\n",
        "    input_text = input(\"텍스트를 입력하세요: \")\n",
        "\n",
        "    # 1. 입력 텍스트를 소문자로 변환\n",
        "    content = input_text.lower()\n",
        "\n",
        "    # 2. 기호 제거\n",
        "    refined_text = \"\"\n",
        "    for character in content:\n",
        "        if character.isalnum() or character == \" \":\n",
        "            refined_text += character\n",
        "\n",
        "    # 3. 단어를 리스트로 분리\n",
        "    words = refined_text.split()\n",
        "\n",
        "    # 4. 단어를 인덱스로 변환\n",
        "    index_list = []\n",
        "    for word in words:\n",
        "        if word in frequency_indexed_word:\n",
        "            index_list.append(frequency_indexed_word[word]['index'])\n",
        "        else:\n",
        "            index_list.append(-1)  # 없는 단어는 -1로 표시\n",
        "\n",
        "    # 결과 반환\n",
        "    return index_list\n",
        "\n",
        "# 함수 호출\n",
        "result = text_to_index(frequency_indexed_word)\n",
        "print(\"인덱스 변환 결과:\", result)"
      ],
      "metadata": {
        "id": "7vM3C6iIIFjt",
        "colab": {
          "base_uri": "https://localhost:8080/"
        },
        "outputId": "cce16d08-6b6f-4391-c84c-5f303c32a653"
      },
      "execution_count": 50,
      "outputs": [
        {
          "output_type": "stream",
          "name": "stdout",
          "text": [
            "텍스트를 입력하세요: Avengers\n",
            "인덱스 변환 결과: [185]\n"
          ]
        }
      ]
    }
  ]
}